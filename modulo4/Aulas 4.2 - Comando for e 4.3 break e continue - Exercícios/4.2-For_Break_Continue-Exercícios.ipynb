{
  "metadata": {
    "kernelspec": {
      "name": "xpython",
      "display_name": "Python 3.13 (XPython)",
      "language": "python"
    },
    "language_info": {
      "file_extension": ".py",
      "mimetype": "text/x-python",
      "name": "python",
      "version": "3.13.1"
    }
  },
  "nbformat_minor": 5,
  "nbformat": 4,
  "cells": [
    {
      "id": "29e89030",
      "cell_type": "markdown",
      "source": "# Módulo 4 - Repetições\n\n## Aulas 4.2 - Comando ```for``` e 4.3 Break e Continue",
      "metadata": {}
    },
    {
      "id": "a45b42df",
      "cell_type": "markdown",
      "source": "### Q1.\n\nCrie um programa em Python que utilize o comando for para imprimir os números de 10 a 1, em ordem decrescente.",
      "metadata": {}
    },
    {
      "id": "55a75b3d",
      "cell_type": "code",
      "source": "for numero in range(10, 0, -1):\n    print(numero)\n",
      "metadata": {
        "trusted": true
      },
      "outputs": [
        {
          "name": "stdout",
          "output_type": "stream",
          "text": "10\n9\n8\n7\n6\n5\n4\n3\n2\n1\n"
        }
      ],
      "execution_count": 1
    },
    {
      "id": "94b47c36",
      "cell_type": "markdown",
      "source": "### Q2.\n\nDado um número inteiro positivo informado pelo usuário, crie um programa em Python que utilize o comando for para calcular e exibir a soma dos números de 1 até o número informado. Ou seja, $1 + 2 + 3 + ... + n$\n\nExemplo de interação:\n```\nDigite um número: 5\nA soma dos números de 1 a 5 é 15\n```\n",
      "metadata": {}
    },
    {
      "id": "45b71596",
      "cell_type": "code",
      "source": "soma=0\nn=int(input(\"digite um numero inteiro:\"))\n\n\nfor i in range(1, n+1,1):\n    soma+=i\n\nprint(f\"a soma dos numeros de 1 a {n} é {soma}\")\n    \n    \n    ",
      "metadata": {
        "trusted": true
      },
      "outputs": [
        {
          "output_type": "stream",
          "name": "stdin",
          "text": "digite um numero inteiro: 10\n"
        },
        {
          "name": "stdout",
          "output_type": "stream",
          "text": "a soma dos numeros de 1 a 10 é 55\n"
        }
      ],
      "execution_count": 9
    },
    {
      "id": "0411d170",
      "cell_type": "markdown",
      "source": "### Q3.\n\nEscreva um programa que lê 10 valores inteiros positivos do usuário e ao final imprime a média dos valores digitados com duas casas decimais.\n\n```\nDigite 10 números positivos:\n3\n2\n12\n14\n20\n42\n19\n0\n8\n1\nA média dos valores digitados é 12.10\n```",
      "metadata": {}
    },
    {
      "id": "3f72f358",
      "cell_type": "code",
      "source": "soma=0\nmedia=0\nfor i in range(10):\n    n=int(input(f\"digite o {i+1}º numero inteiro:\"))\n    soma+=n\nmedia=(soma/10)\nprint(f\"a media dos valores digitas é {media:.2f}\")\n",
      "metadata": {
        "trusted": true
      },
      "outputs": [
        {
          "output_type": "stream",
          "name": "stdin",
          "text": "digite o 1º numero inteiro: 1\ndigite o 2º numero inteiro: 2\ndigite o 3º numero inteiro: 3\ndigite o 4º numero inteiro: 4\ndigite o 5º numero inteiro: 5\ndigite o 6º numero inteiro: 6\ndigite o 7º numero inteiro: 7\ndigite o 8º numero inteiro: 8\ndigite o 9º numero inteiro: 9\ndigite o 10º numero inteiro: 10\n"
        },
        {
          "name": "stdout",
          "output_type": "stream",
          "text": "a media dos valores digitas é 5.50\n"
        }
      ],
      "execution_count": 18
    },
    {
      "id": "d62e27ff",
      "cell_type": "markdown",
      "source": "### Q4.\n\nVocê vai criar um sistema que registra os resultados dos jogos do Atlético MG ao longo de um campeonato. Seu sistema vai receber os resultados de todos os jogos do Galo, e deve calcular a pontuação do time sabendo que vitórias valem 3 pontos, empates 1 ponto e derrotas 0 pontos.\n\nEntrada: <br>\nA primeira linha de entrada é um inteiro N com a quantidade jogos do galo. Para cada jogo você deve ler 2 inteiros, o primeiro com a quantidade de gols do galo e o segundo com a quantidade de gols do time oponente. \n\nSaída: <br>\nApresente a soma de vitórias, empates e derrotas do galo, junto com o cálculo da pontuação total.\n\nEx:\n```\nEntrada:\n4\n2\n0\n1\n1\n0\n3\n1\n0\n\nSaída:\nVitórias: 2\nEmpates: 1\nDerrotas: 1\nPontuação: 7\n\n```\n\n\n",
      "metadata": {}
    },
    {
      "id": "d3fdfc2a",
      "cell_type": "code",
      "source": "quantVITfranga=0\nquantDERfranga=0\nquantEMPfranga=0\npontfranga=0\njogos=int(input(\"Digite o numero de jogos que as frangas jogaram:\"))\n\nfor i in range(jogos):\n    golsfrangas=int(input(f\"digite quantos gols as frangas fizeram no jogo {i+1}:\"))\n    golsadv=int(input(f\"digite quantos gols do adversario das frangas fizeram no jogo {i+1}:\"))\n    if(golsfrangas>golsadv):\n        quantVITfranga+=1\n    elif (golsfrangas<golsadv):\n        quantDERfranga+=1\n    else:\n        quantEMPfranga+=1\n\npontfranga= ((3*quantVITfranga)+(quantEMPfranga))\n\nprint(f\"Vitorias: {quantVITfranga}, Empates: {quantEMPfranga}, Derrotas{quantDERfranga}, Pontuação: {pontfranga}\")\n        \n",
      "metadata": {
        "trusted": true
      },
      "outputs": [],
      "execution_count": null
    },
    {
      "id": "fc98604d",
      "cell_type": "markdown",
      "source": "### Q5.\n\nFaça um programa que lê dois inteiros N e M, e imprime na tela um campo de batalha naval. O tabuleiro deve possuir N linhas e M colunas. A primeira linha é composta por um espaço em branco e o cabeçalho das colunas, ou seja, valores de 1 a M. As N linhas seguintes iniciam com o cabeçalho da linha, ou seja, seu número, seguido de M caracteres \"/\" (barra) indicando uma possível posição jogável. \n\n```\nEntrada:\n5\n4\n\nSaída:\n  1 2 3 4 \n1 / / / / \n2 / / / / \n3 / / / / \n4 / / / / \n5 / / / / \n```\n\nPara esse exercício, precisamos lembrar que o comando print implicitamente adiciona uma quebra de linha ao final da impressão. Podemos interferir no final da impressão adicionando mais uma entrada ao print. No exemplo, finalizamos cada linha com um espaço em branco:\n```python\nprint(\"Texto qualquer\", end = \" \")\n```",
      "metadata": {}
    },
    {
      "id": "a60ef197",
      "cell_type": "code",
      "source": "N = int(input(\"Digite o número de linhas: \"))\nM = int(input(\"Digite o número de colunas: \"))\n\n\nprint(\" \", end=\" \")\nfor col in range(1, M + 1):\n    print(col, end=\" \")\nprint() \n\n\nfor linha in range(1, N + 1):\n    print(linha, end=\" \")  # número da linha\n    for i in range(M):\n        print(\"/\", end=\" \")\n    print()  \n",
      "metadata": {
        "trusted": true
      },
      "outputs": [
        {
          "output_type": "stream",
          "name": "stdin",
          "text": "Digite o número de linhas:  3\nDigite o número de colunas:  3\n"
        },
        {
          "name": "stdout",
          "output_type": "stream",
          "text": "  1 2 3 \n1 / / / \n2 / / / \n3 / / / \n"
        }
      ],
      "execution_count": 22
    },
    {
      "id": "4654dc0b",
      "cell_type": "markdown",
      "source": "---\n## Break e Continue",
      "metadata": {}
    },
    {
      "id": "24fe9d85",
      "cell_type": "markdown",
      "source": "### Q6.\n\nEscreva um programa que lê uma quantidade indefinida de valores e informa o maior e o menor valor digitados. A leitura é encerrada quando o usuário digitar o valor 0 (zero).\n\n```\nEntrada:\n12\n-1\n29\n11\n-5\n0\n\nSaída:\nMaior: 29\nMenor: -5\n```",
      "metadata": {}
    },
    {
      "id": "ee1c466a",
      "cell_type": "code",
      "source": "menor=float('+inf')\nmaior=float('-inf')\n\nwhile True:\n\n    val=int(input(\"digite um valor:\"))      \n    if (i==0):\n        menor=val\n        maior=val\n    else: \n        if(val==0):\n            break\n        else:\n            if(val<menor):\n                menor=val\n            if (val>maior):\n                maior= val\nprint(f\"Maior:{maior}, Menor:{menor}\")\n",
      "metadata": {
        "trusted": true
      },
      "outputs": [
        {
          "output_type": "stream",
          "name": "stdin",
          "text": "digite um valor: -9000\ndigite um valor: 500\ndigite um valor: 322\ndigite um valor: 5454\ndigite um valor: 42333\ndigite um valor: 3\ndigite um valor: 0\n"
        },
        {
          "name": "stdout",
          "output_type": "stream",
          "text": "Maior:42333, Menor:-9000\n"
        }
      ],
      "execution_count": 40
    },
    {
      "id": "30d486f7",
      "cell_type": "markdown",
      "source": "### Q7.\n\nEscreva um programa que lê uma quantidade indefinida de valores e informa o **produto** dos valores positivos digitados. A leitura é encerrada quando o usuário digitar o valor 0 (zero).\n\n```\nEntrada:\n2\n-1\n1\n3\n-5\n0\n\nSaída:\nProduto: 6\n```",
      "metadata": {}
    },
    {
      "id": "2f1ac324",
      "cell_type": "code",
      "source": "## Escreva e execute seu código aqui\nval=1\nproduto=0\ni=0\nwhile True:\n\n    val=int(input(\"digite um valor:\"))      \n    if ((val>0) and (i==0)):\n        produto=1*val\n        i+=1\n    elif(val>0):\n            produto=produto*val\n    else: \n        if(val==0):\n            break\n            \nprint(f\"Produto:{produto}\")",
      "metadata": {
        "trusted": true
      },
      "outputs": [
        {
          "output_type": "stream",
          "name": "stdin",
          "text": "digite um valor: 1\ndigite um valor: 2\ndigite um valor: 3\ndigite um valor: 4\ndigite um valor: 5\ndigite um valor: -9\ndigite um valor: 0\n"
        },
        {
          "name": "stdout",
          "output_type": "stream",
          "text": "Produto:120\n"
        }
      ],
      "execution_count": 45
    },
    {
      "id": "e932f3cf",
      "cell_type": "markdown",
      "source": "### Q8.\n\nVamos fazer uma calculadora que aceita expressões aritméticas de qualquer tamanho até que o usuário digite a palavra \"Fim\". Sua calculadora executa apenas as operações \"+\", \"-\".\n\n```\nEntrada:\n5\n+\n8\n-\n3\n+\n2\nFim\n\nSaída:\n12\n```",
      "metadata": {}
    },
    {
      "id": "e835d870",
      "cell_type": "code",
      "source": "## Escreva e execute seu código aqui\nresultado=0\ni=0\nwhile True:\n    if (i==0):\n        n=int(input(\"digite um numero:\"))\n        i+=1\n        resultado=n\n    else:\n        operador=(input(\"Digite + para somar ou - para subtrair:\"))\n        n2=int(input(\"Digite mais um numero da conta\"))\n        if (operador==\"+\"):\n            resultado=resultado+n2\n        elif (operador==\"-\"):\n            resultado=resultado-n2\n        fim=input(\"para encerrar a contra digite Fim ou digite qualquer outra coisa pra continuar\")\n        if fim==\"Fim\":\n            break\n        else: continue\n\nprint(resultado)\n\n\n",
      "metadata": {
        "trusted": true
      },
      "outputs": [],
      "execution_count": null
    },
    {
      "id": "581ac270-d8c5-4a28-9a77-69498e93328d",
      "cell_type": "code",
      "source": "",
      "metadata": {
        "trusted": true
      },
      "outputs": [],
      "execution_count": null
    },
    {
      "id": "a7167ad4-ea86-421e-b81b-d6c25eabf60e",
      "cell_type": "code",
      "source": "",
      "metadata": {
        "trusted": true
      },
      "outputs": [],
      "execution_count": null
    }
  ]
}