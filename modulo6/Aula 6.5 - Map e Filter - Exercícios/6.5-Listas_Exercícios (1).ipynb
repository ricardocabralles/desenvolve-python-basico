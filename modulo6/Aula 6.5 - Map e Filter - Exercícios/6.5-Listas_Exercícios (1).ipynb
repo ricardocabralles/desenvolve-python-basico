{
  "metadata": {
    "kernelspec": {
      "name": "xpython",
      "display_name": "Python 3.13 (XPython)",
      "language": "python"
    },
    "language_info": {
      "file_extension": ".py",
      "mimetype": "text/x-python",
      "name": "python",
      "version": "3.13.1"
    }
  },
  "nbformat_minor": 5,
  "nbformat": 4,
  "cells": [
    {
      "id": "0d5035b5",
      "cell_type": "markdown",
      "source": "# Listas\n\n## Aulas 6.1 a 6.5 ",
      "metadata": {}
    },
    {
      "id": "0bdece85",
      "cell_type": "markdown",
      "source": "### Q1. \n\nUsando a função embutida ```map``` e criando uma função ```lambda```, transforme uma lista com os raios de múltiplas circunferências em uma nova lista com as respectivas áreas. O cálculo de cada área é dado por: ```pi*(raio**2)```\n- Use a constante pi da biblioteca math \n- Arredonde o resultado para 2 casas decimais\n",
      "metadata": {}
    },
    {
      "id": "0a258eba",
      "cell_type": "code",
      "source": "## Complete a solução\nimport math \nraios = [1.5, 0.8, 2.3, 5.0]\nareas=[]\n\nareas=list(map(lambda raio: round(math.pi*(raio**2),2), raios))\n\nprint(areas)\n\n## Complete a solução\n",
      "metadata": {
        "trusted": true
      },
      "outputs": [
        {
          "name": "stdout",
          "output_type": "stream",
          "text": "[7.07, 2.01, 16.62, 78.54]\n"
        }
      ],
      "execution_count": 3
    },
    {
      "id": "649a5082",
      "cell_type": "markdown",
      "source": "### Q2. \n\nCrie uma função customizada e aplique a função embutida ```filter``` para operar em uma lista de listas contendo os lados de múltiplos triângulos. Construa uma nova lista contendo apenas os triângulos equiláteros, ou seja, com os três lados iguais.\n",
      "metadata": {}
    },
    {
      "id": "47cb0573",
      "cell_type": "code",
      "source": "## Crie a função customizada\ndef testa_equilatero(lados):\n    return lados[0] == lados[1] and lados[1] == lados[2]\n    \n### Usando filter, aplique a função customizada aos seguintes triangulos\ntriangulos  = [[2,2,2], [3,4,5], [3,2,2],[4,4,4]]\nequilateros=list(filter(testa_equilatero, triangulos))\nprint(equilateros)",
      "metadata": {
        "trusted": true
      },
      "outputs": [
        {
          "name": "stdout",
          "output_type": "stream",
          "text": "[[2, 2, 2], [4, 4, 4]]\n"
        }
      ],
      "execution_count": 8
    },
    {
      "id": "bb62d219",
      "cell_type": "markdown",
      "source": "### Q3. \nCrie uma função chamada ```ordena_por_comprimento``` que aceite uma lista de strings e a ordene com base no comprimento das strings, do menor para o maior. Utilize a função ```sorte``` e uma expressão ```lambda```.",
      "metadata": {}
    },
    {
      "id": "add41556",
      "cell_type": "code",
      "source": "### crie a função ordena_por_comprimento e retorne a lista resultado\n### aplique sua função à seguinte lista e imprima o resultado\n\n\ndef ordena_por_comprimento(lista_de_strings):\n    return sorted(lista_de_strings, key=lambda s: len(s))\n\nnomes = [\"Joao\", \"Maria\", \"Jose\", \"Gabriela\", \"Sol\", \"Luna\", \"Bento\", \"Enzo\", \"Fernanda\"]\nnomes_ordenados = ordena_por_comprimento(nomes)\n\nprint(nomes_ordenados)\n\n",
      "metadata": {
        "trusted": true
      },
      "outputs": [
        {
          "name": "stdout",
          "output_type": "stream",
          "text": "['Sol', 'Joao', 'Jose', 'Luna', 'Enzo', 'Maria', 'Bento', 'Gabriela', 'Fernanda']\n"
        }
      ],
      "execution_count": 9
    },
    {
      "id": "8710b1a7",
      "cell_type": "markdown",
      "source": "### Q4.\n\nCrie uma lista de listas (uma matriz de 2 dimensões) de tamanho $n \\times n$, com $n$ dado pelo usuário. Cada elemento da matriz deve ser o produto dos índices da linha pela coluna.\n\nExemplo:\n```\nDigite n: 4\nMatriz:\n[[0, 0, 0, 0],\n [0, 1, 2, 3],\n [0, 2, 4, 6],\n [0, 3, 6, 9]]\n```",
      "metadata": {}
    },
    {
      "id": "0b7ee921",
      "cell_type": "code",
      "source": "# Implemente sua solução aqui\nn=int(input(\"digite o numero de elementos que tera a linha e coluna da sua matriz quadratica\"))\n\nmatriz = []\n\n\nfor i in range(n):\n    linha = []\n    for j in range(n):\n        linha.append(i * j)\n    matriz.append(linha)\n\n\nprint(\"Matriz:\")\nfor linha in matriz:\n    print(linha)",
      "metadata": {
        "trusted": true
      },
      "outputs": [
        {
          "output_type": "stream",
          "name": "stdin",
          "text": "digite o numero de elementos que tera a linha e coluna da sua matriz quadratica 10\n"
        },
        {
          "name": "stdout",
          "output_type": "stream",
          "text": "Matriz:\n[0, 0, 0, 0, 0, 0, 0, 0, 0, 0]\n[0, 1, 2, 3, 4, 5, 6, 7, 8, 9]\n[0, 2, 4, 6, 8, 10, 12, 14, 16, 18]\n[0, 3, 6, 9, 12, 15, 18, 21, 24, 27]\n[0, 4, 8, 12, 16, 20, 24, 28, 32, 36]\n[0, 5, 10, 15, 20, 25, 30, 35, 40, 45]\n[0, 6, 12, 18, 24, 30, 36, 42, 48, 54]\n[0, 7, 14, 21, 28, 35, 42, 49, 56, 63]\n[0, 8, 16, 24, 32, 40, 48, 56, 64, 72]\n[0, 9, 18, 27, 36, 45, 54, 63, 72, 81]\n"
        }
      ],
      "execution_count": 13
    },
    {
      "id": "f41781df",
      "cell_type": "markdown",
      "source": "### Q5.\n\nDada uma lista de números inteiros, implemente uma função em Python chamada ```pares_unicos``` que encontre e retorne todos os pares únicos de elementos na lista cuja soma seja igual a um determinado valor. Considere que a ordem dos pares não é relevante.",
      "metadata": {}
    },
    {
      "id": "7a76f765",
      "cell_type": "code",
      "source": "\ndef pares_unicos(numeros, soma_objetivo):\n    pares_encontrados = []\n    \n    # Laço externo: percorre o primeiro número de cada par\n    for i in range(len(numeros)):\n        \n        # Laço interno: percorre o segundo número, a partir do próximo índice\n        for j in range(i + 1, len(numeros)):\n            \n            # Pega o primeiro e o segundo número\n            num1 = numeros[i]\n            num2 = numeros[j]\n            \n            # Se a soma dos números for igual ao objetivo, adiciona o par\n            if num1 + num2 == soma_objetivo:\n                par = [num1, num2]\n                pares_encontrados.append(par)\n                \n    return pares_encontrados\n\n# Exemplo de uso:\nnums = [3, 4, 5, 6, 7]\nsoma = 10\nresultado = pares_unicos(nums, soma)\nprint(resultado)",
      "metadata": {
        "trusted": true
      },
      "outputs": [
        {
          "name": "stdout",
          "output_type": "stream",
          "text": "[[3, 7], [4, 6]]\n"
        }
      ],
      "execution_count": 17
    },
    {
      "id": "87e44893",
      "cell_type": "markdown",
      "source": "### Q5.\n\nEscreva um programa para encontrar a diferença entre duas listas, incluindo elementos duplicados.\n\nEx:\n```\nListas originais: \n[1, 1, 2, 3, 3, 4, 4, 5, 6, 7]\n[1, 1, 2, 4, 5, 6]\nDiferença entre as listas:\n[3, 3, 4, 7]\n```",
      "metadata": {}
    },
    {
      "id": "7edc027c",
      "cell_type": "code",
      "source": "# Implemente sua solução aqui\ndef encontrar_diferenca(lista1, lista2):\n    lista1_copia = lista1.copy()\n    \n    # Itera sobre cada elemento da segunda lista\n    for elemento in lista2:\n        # Verifica se o elemento da lista2 está presente na cópia da lista1\n        if elemento in lista1_copia:\n            # Se estiver, remove a primeira ocorrência dele\n            lista1_copia.remove(elemento)\n            \n    # O que sobra na lista1_copia é a diferença\n    return lista1_copia\n\n# Exemplo de uso:\nlista1 = [1, 1, 2, 3, 3, 4, 4, 5, 6, 7]\nlista2 = [1, 1, 2, 4, 5, 6]\n\ndiferenca = encontrar_diferenca(lista1, lista2)\nprint(f\"Diferença entre as listas: {diferenca}\")",
      "metadata": {
        "trusted": true
      },
      "outputs": [
        {
          "name": "stdout",
          "output_type": "stream",
          "text": "Diferença entre as listas: [3, 3, 4, 7]\n"
        }
      ],
      "execution_count": 18
    },
    {
      "id": "f4c4236d",
      "cell_type": "markdown",
      "source": "### Q6.\n\nDada uma lista aleatória, escreva um programa que separa os valores em listas menores de acordo com o tamanho solicitado. Caso não seja possível repartir igualmente a lista original, a última sublista deve conter os elementos remanescentes, como indicado no exemplo a seguir.\n\nNote que seu programa deve continuar executando em um laço infinito até que o usuário informe o tamanho 0 na entrada solicitada.\n\n```\nLista original:\n[12, 45, 23, 67, 78, 90, 45, 32, 100, 76, 38, 62, 73, 29, 83]\n\nTamanho para divisão: 3\nSubslistas:\n[[12, 45, 23], [67, 78, 90], [45, 32, 100], [76, 38, 62], [73, 29, 83]]\n\nTamanho para divisão: 4\nSubslistas: [[12, 45, 23, 67], [78, 90, 45, 32], [100, 76, 38, 62], [73, 29, 83]]\n\nTamanho para divisão: 0\n```",
      "metadata": {}
    },
    {
      "id": "792563de",
      "cell_type": "code",
      "source": "import random\nlista = [random.randint(1,100) for i in range(20)]\n\n# Implemente sua solução aqui\nimport random\nlista_original = [12, 45, 23, 67, 78, 90, 45, 32, 100, 76, 38, 62, 73, 29, 83]\n\nwhile True:\n\n        tamanho_sublista = int(input(\"\\nDigite o tamanho para divisão (ou 0 para sair): \"))\n\n        # Condição de saída do laço\n        if tamanho_sublista == 0:\n            print(\"Programa encerrado.\")\n            break\n\n        # Verifica se o tamanho é um número positivo\n        if tamanho_sublista < 1:\n            print(\"O tamanho deve ser um número positivo. Tente novamente.\")\n            continue\n\n        # Lista que irá armazenar as sublistas\n        sublistas = []\n        \n        # Usa um laço for com fatiamento para criar as sublistas\n        for i in range(0, len(lista_original), tamanho_sublista):\n            # O fatiamento cria a sublista do tamanho solicitado\n            sublista = lista_original[i : i + tamanho_sublista]\n            sublistas.append(sublista)\n\n        print(f\"Sublistas: {sublistas}\")\n",
      "metadata": {
        "trusted": true
      },
      "outputs": [
        {
          "output_type": "stream",
          "name": "stdin",
          "text": "\nDigite o tamanho para divisão (ou 0 para sair):  2\n"
        },
        {
          "name": "stdout",
          "output_type": "stream",
          "text": "Sublistas: [[12, 45], [23, 67], [78, 90], [45, 32], [100, 76], [38, 62], [73, 29], [83]]\n"
        },
        {
          "output_type": "stream",
          "name": "stdin",
          "text": "\nDigite o tamanho para divisão (ou 0 para sair):  3\n"
        },
        {
          "name": "stdout",
          "output_type": "stream",
          "text": "Sublistas: [[12, 45, 23], [67, 78, 90], [45, 32, 100], [76, 38, 62], [73, 29, 83]]\n"
        },
        {
          "output_type": "stream",
          "name": "stdin",
          "text": "\nDigite o tamanho para divisão (ou 0 para sair):  4\n"
        },
        {
          "name": "stdout",
          "output_type": "stream",
          "text": "Sublistas: [[12, 45, 23, 67], [78, 90, 45, 32], [100, 76, 38, 62], [73, 29, 83]]\n"
        },
        {
          "output_type": "stream",
          "name": "stdin",
          "text": "\nDigite o tamanho para divisão (ou 0 para sair):  5\n"
        },
        {
          "name": "stdout",
          "output_type": "stream",
          "text": "Sublistas: [[12, 45, 23, 67, 78], [90, 45, 32, 100, 76], [38, 62, 73, 29, 83]]\n"
        },
        {
          "output_type": "stream",
          "name": "stdin",
          "text": "\nDigite o tamanho para divisão (ou 0 para sair):  6\n"
        },
        {
          "name": "stdout",
          "output_type": "stream",
          "text": "Sublistas: [[12, 45, 23, 67, 78, 90], [45, 32, 100, 76, 38, 62], [73, 29, 83]]\n"
        },
        {
          "output_type": "stream",
          "name": "stdin",
          "text": "\nDigite o tamanho para divisão (ou 0 para sair):  7\n"
        },
        {
          "name": "stdout",
          "output_type": "stream",
          "text": "Sublistas: [[12, 45, 23, 67, 78, 90, 45], [32, 100, 76, 38, 62, 73, 29], [83]]\n"
        },
        {
          "output_type": "stream",
          "name": "stdin",
          "text": "\nDigite o tamanho para divisão (ou 0 para sair):  8\n"
        },
        {
          "name": "stdout",
          "output_type": "stream",
          "text": "Sublistas: [[12, 45, 23, 67, 78, 90, 45, 32], [100, 76, 38, 62, 73, 29, 83]]\n"
        },
        {
          "output_type": "stream",
          "name": "stdin",
          "text": "\nDigite o tamanho para divisão (ou 0 para sair):  9\n"
        },
        {
          "name": "stdout",
          "output_type": "stream",
          "text": "Sublistas: [[12, 45, 23, 67, 78, 90, 45, 32, 100], [76, 38, 62, 73, 29, 83]]\n"
        },
        {
          "output_type": "stream",
          "name": "stdin",
          "text": "\nDigite o tamanho para divisão (ou 0 para sair):  0\n"
        },
        {
          "name": "stdout",
          "output_type": "stream",
          "text": "Programa encerrado.\n"
        }
      ],
      "execution_count": 19
    },
    {
      "id": "c65be32f",
      "cell_type": "markdown",
      "source": "### Q7.\n\nVocê está desenvolvendo um programa para determinar o vencedor de um jogo da velha. Escreva uma função ```avalia_tabuleiro()``` que recebe uma lista representando o estado atual do tabuleiro e determina se há um vencedor. \n\nA lista terá 3 sublistas, cada uma representando uma linha do tabuleiro. Cada elemento das sublistas pode ser 'X', 'O' ou vazio (' ').\n\nO programa deve imprimir o vencedor ('X', 'O'), se houver um, ou \"Empate\" se não houver vencedor. Um vencedor é determinado se houver três 'X' ou três 'O' em linha (horizontal, vertical ou diagonal).\n\nExemplo:\n```python\ntabuleiro = [\n    ['X', 'O', 'X'],\n    [' ', 'X', 'O'],\n    ['O', ' ', 'O']\n]\n```\nO resultado seria \"Empate\", pois não há um vencedor no exemplo fornecido. \n\nExemplo 2:\n```python\ntabuleiro = [\n    ['O', 'X', 'O'],\n    ['X', 'O', 'X'],\n    ['X', ' ', 'O']\n]\n```\nO resultado seria \"O\", pois 'O' venceu na diagonal central.",
      "metadata": {}
    },
    {
      "id": "720ca24d",
      "cell_type": "code",
      "source": "### Escreva a função avalia_tabuleiro()\ndef avalia_tabuleiro(tabuleiro):\n    # Combinações de vitória (linhas, colunas, diagonais)\n    vitorias = [\n        # Horizontais\n        [tabuleiro[0][0], tabuleiro[0][1], tabuleiro[0][2]],\n        [tabuleiro[1][0], tabuleiro[1][1], tabuleiro[1][2]],\n        [tabuleiro[2][0], tabuleiro[2][1], tabuleiro[2][2]],\n        # Verticais\n        [tabuleiro[0][0], tabuleiro[1][0], tabuleiro[2][0]],\n        [tabuleiro[0][1], tabuleiro[1][1], tabuleiro[2][1]],\n        [tabuleiro[0][2], tabuleiro[1][2], tabuleiro[2][2]],\n        # Diagonais\n        [tabuleiro[0][0], tabuleiro[1][1], tabuleiro[2][2]],\n        [tabuleiro[0][2], tabuleiro[1][1], tabuleiro[2][0]]\n    ]\n\n    # Verifica cada combinação de vitória\n    for linha in vitorias:\n        if linha.count('X') == 3:\n            return 'X'\n        if linha.count('O') == 3:\n            return 'O'\n    \n    # Se nenhuma combinação de vitória foi encontrada, o jogo é um empate\n    return \"Empate\"\n\"\"\"\n# Exemplo 1: Empate\ntabuleiro1 = [\n    ['X', 'O', 'X'],\n    [' ', 'X', 'O'],\n    ['O', ' ', 'O']]\n\nresultado1 = avalia_tabuleiro(tabuleiro1)\nprint(f\"Tabuleiro 1: {resultado1}\")\n\n# Exemplo 2: O venceu\ntabuleiro2 = [\n    ['O', 'X', 'O'],\n    ['X', 'O', 'X'],\n    ['X', ' ', 'O']]\n\nresultado2 = avalia_tabuleiro(tabuleiro2)\nprint(f\"Tabuleiro 2: {resultado2}\")\n\n# Exemplo 3: X venceu\ntabuleiro3 = [\n    ['X', 'O', 'O'],\n    ['O', 'X', ' '],\n    ['O', 'O', 'X']]\n    \nresultado3 = avalia_tabuleiro(tabuleiro3)\nprint(f\"Tabuleiro 3: {resultado3}\")\"\"\"\n\n\n\n### teste a função nos seguintes tabuleiros\n\ntabuleiro1 = [\n    ['X', 'O', 'X'],\n    [' ', 'X', 'O'],\n    ['O', ' ', 'X']\n]\nresultado1 = avalia_tabuleiro(tabuleiro1)\nprint(f\"Tabuleiro 1: {resultado1}\")\n\ntabuleiro2 = [\n    ['X', 'O', 'O'],\n    ['X', 'X', 'O'],\n    ['X', 'O', 'X']\n]\nresultado2 = avalia_tabuleiro(tabuleiro2)\nprint(f\"Tabuleiro 2: {resultado2}\")\n\ntabuleiro3 = [\n    [' ', ' ', ' '],\n    ['X', ' ', 'O'],\n    ['O', 'X', 'X']\n]\nresultado3 = avalia_tabuleiro(tabuleiro3)\nprint(f\"Tabuleiro 3: {resultado3}\")\n\ntabuleiro4 = [\n    ['O', 'O', 'O'],\n    ['X', ' ', 'X'],\n    ['O', 'X', 'X']\n]\nresultado4 = avalia_tabuleiro(tabuleiro4)\nprint(f\"Tabuleiro 4: {resultado4}\")\n\ntabuleiro5 = [\n    ['X', 'X', 'O'],\n    ['X', ' ', 'O'],\n    ['O', 'O', 'X']\n]\nresultado5 = avalia_tabuleiro(tabuleiro5)\nprint(f\"Tabuleiro 5: {resultado5}\")",
      "metadata": {
        "trusted": true
      },
      "outputs": [
        {
          "name": "stdout",
          "output_type": "stream",
          "text": "Tabuleiro 1: X\nTabuleiro 2: X\nTabuleiro 3: Empate\nTabuleiro 4: O\nTabuleiro 5: Empate\n"
        }
      ],
      "execution_count": 22
    },
    {
      "id": "28b8b698-c1c5-4af3-97ca-8b2219814ebc",
      "cell_type": "code",
      "source": "",
      "metadata": {
        "trusted": true
      },
      "outputs": [],
      "execution_count": null
    }
  ]
}