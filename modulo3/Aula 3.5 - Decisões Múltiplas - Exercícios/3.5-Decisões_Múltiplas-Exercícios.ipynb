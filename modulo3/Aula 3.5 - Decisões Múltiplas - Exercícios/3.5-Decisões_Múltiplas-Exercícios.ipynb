{
  "metadata": {
    "kernelspec": {
      "name": "xpython",
      "display_name": "Python 3.13 (XPython)",
      "language": "python"
    },
    "language_info": {
      "file_extension": ".py",
      "mimetype": "text/x-python",
      "name": "python",
      "version": "3.13.1"
    }
  },
  "nbformat_minor": 5,
  "nbformat": 4,
  "cells": [
    {
      "id": "559687a1",
      "cell_type": "markdown",
      "source": "# Módulo 3 - Condicionais\n\n## 3.5 - Decisões Múltiplas",
      "metadata": {}
    },
    {
      "id": "42f823b3",
      "cell_type": "markdown",
      "source": "### Q1.\n\nVamos fazer uma calculadora! Escreva um programa que solicita 3 entradas: o primeiro operando (float), o operador (caracter) e o segundo operando (float). Seu programa deve imprimir o resultado da operação solicitada, entre soma (+), subtração (-), divisão (/), multiplicação (\\*) ou potência (\\*\\*). Seu programa também deve imprimir uma mensagem de erro se a operação solicitada não estiver dentre as opções disponíveis.\n\nSeguem alguns exemplos de interação com seu código no terminal. \n\n\n```\nDigite o primeiro operando: 5.2\nDigite o operador (+, -, /, *, **): *\nDigite o segundo operando` 3\nResultado: 5.2 * 3.0 = 15.6\n```\n\n```\nDigite o primeiro operando: 8\nDigite o operador (+, -, /, *, **): **\nDigite o segundo operando: 2\nResultado: 8.0 * 2.0 = 64.0\n```\n\n```\nDigite o primeiro operando: 7\nDigite o operador (+, -, /, *, **): %\nDigite o segundo operando: 3.4\nErro! Operação inválida. \n```\n\n```\nDigite o primeiro operando: 10\nDigite o operador (+, -, /, *, **): /\nDigite o segundo operando: 2.5\nResultado: 10.0 / 2.5 = 4.0\n```\n\n",
      "metadata": {}
    },
    {
      "id": "c5b8cd4d",
      "cell_type": "code",
      "source": "n1=float(input(\"Digite o primeiro numero que você deseja utilizar na operação:\"))\nn2=float(input(\"Digite o segundo numero que você deseja utilizar na operação:\"))\noperador = input(\"Digite o operador (+, -, *, /, **): \")\n\nif operador == \"+\":\n    resultado = n1 + n2\nelif operador == \"-\":\n    resultado = n1 - n2\nelif operador == \"*\":\n    resultado = n1 * n2\nelif operador == \"/\":\n    if n2 != 0:\n        resultado = n1 / n2\n    else:\n        resultado = \"Erro: divisão por zero não é permitida.\"\nelif operador == \"**\":\n    resultado = n1 ** n2\nelse:\n    resultado = \"Erro: operador inválido.\"\n    \nprint(\"Resultado:\", resultado)",
      "metadata": {
        "trusted": true
      },
      "outputs": [
        {
          "output_type": "stream",
          "name": "stdin",
          "text": "Digite o primeiro numero que você deseja utilizar na operação: 1\nDigite o segundo numero que você deseja utilizar na operação: 2\nDigite o operador (+, -, *, /, **):  -\n"
        },
        {
          "name": "stdout",
          "output_type": "stream",
          "text": "Resultado: -1.0\n"
        }
      ],
      "execution_count": 1
    },
    {
      "id": "d135df39",
      "cell_type": "markdown",
      "source": "### Q2.\n\nEscreva um programa que leia os comprimentos dos 3 lados de um triângulo e diga se o triângulo é equilátero, isóceles ou escaleno. Regras:\n- Isóceles: Quaisquer dois lados com o mesmo comprimento\n- Equilátero: Os três lados tem o mesmo comprimento\n- Escaleno: Três lados de comprimento diferente \n\nNote que a ordem das condições importa! Seguem alguns exemplos de interação com seu código no terminal. \n\n```\nDigite o comprimento do lado 1: 4\nDigite o comprimento do lado 2: 4\nDigite o comprimento do lado 3: 6\nTriângulo: Isóceles\n```\n\n```\nDigite o comprimento do lado 1: 5\nDigite o comprimento do lado 2: 5\nDigite o comprimento do lado 3: 5\nTriângulo: Equilátero\n```\n\n```\nDigite o comprimento do lado 1: 7\nDigite o comprimento do lado 2: 4\nDigite o comprimento do lado 3: 9\nTriângulo: Escaleno\n```\n\n",
      "metadata": {}
    },
    {
      "id": "cfcf9a80",
      "cell_type": "code",
      "source": "l1=int(input(\"Digite o comprimento do lado 1:\"))\nl2=int(input(\"Digite o comprimento do lado 2:\"))\nl3=int(input(\"Digite o comprimento do lado 3:\"))\n\nif (l1==l2 and l1==l3):\n    print(\"Tiângulo equilátero\")\n\nelif ((l1==l2 and l3!=l2) or (l1==l3 and l2!=l3) or (l2==l3 and l1!=l3)):\n    print(\"Tiângulo Isóceles\")\n\nelif (l1!=l2 and l2!=l3 and l1!=l3):\n    print(\"Tiângulo Escaleno\")\n",
      "metadata": {
        "trusted": true
      },
      "outputs": [
        {
          "output_type": "stream",
          "name": "stdin",
          "text": "Digite o comprimento do lado 1: 2\nDigite o comprimento do lado 2: 4\nDigite o comprimento do lado 3: 4\n"
        },
        {
          "name": "stdout",
          "output_type": "stream",
          "text": "Tiângulo Isóceles\n"
        }
      ],
      "execution_count": 8
    },
    {
      "id": "ed3405fb",
      "cell_type": "markdown",
      "source": "### Q3.\n\nVocê está desenvolvendo um sistema de avaliação de desempenho para um jogo. Escreva um programa em Python que avalia a pontuação do jogador em uma missão e atribui uma classificação com base nas seguintes condições:\n\n- Se a pontuação for menor que 70, atribua a classificação \"Insatisfatório\".\n- Se a pontuação for maior ou igual a 70, atribua a classificação \"Regular\".\n- Se a pontuação for maior ou igual a 80, atribua a classificação \"Bom\".\n- Se a pontuação for maior ou igual a 90, atribua a classificação \"Excelente\".\n\nEscreva um programa que solicita ao usuário a pontuação e imprime a classificação correspondente.",
      "metadata": {}
    },
    {
      "id": "a7a842ae",
      "cell_type": "code",
      "source": "pontuacao = int(input(\"Digite a pontuação do jogador: \"))\n\nif pontuacao >= 90:\n    classificacao = \"Excelente\"\nelif pontuacao >= 80:\n    classificacao = \"Bom\"\nelif pontuacao >= 70:\n    classificacao = \"Regular\"\nelse:\n    classificacao = \"Insatisfatório\"\n\nprint(f\"Classificação: {classificacao}\")\n\n",
      "metadata": {
        "trusted": true
      },
      "outputs": [
        {
          "output_type": "stream",
          "name": "stdin",
          "text": "Digite a pontuação do jogador:  100\n"
        },
        {
          "name": "stdout",
          "output_type": "stream",
          "text": "Classificação: Excelente\n"
        }
      ],
      "execution_count": 9
    },
    {
      "id": "6cafaa50",
      "cell_type": "markdown",
      "source": "### Q4.\n\nVocê está implementando um sistema de desconto em uma loja online. Escreva um programa em Python que calcula o desconto com base no valor total da compra e atribui diferentes níveis de desconto de acordo com as seguintes condições:\n\n- Se o valor total da compra for menor que R\\$ 50, não há desconto.\n- Se o valor total da compra for maior ou igual a R\\$ 50, atribua um desconto de 10%.\n- Se o valor total da compra for maior ou igual a R\\$ 100, atribua um desconto de 20%.\n\n\nSeguem alguns exemplos de interação com seu código no terminal. Preste atenção na formatação esperada para as saídas.\n\n```\nDigite o valor total da compra: 120\nDesconto aplicado: 20.0%\nValor final com desconto: R$96.00\n```\n\n```\nDigite o valor total da compra: 65\nDesconto aplicado: 10.0%\nValor final com desconto: R$58.50\n```\n\n```\nDigite o valor total da compra: 40\nDesconto aplicado: 0.0%\nValor final com desconto: R$40.00\n```\n\n\n",
      "metadata": {}
    },
    {
      "id": "3b1b1929",
      "cell_type": "code",
      "source": "val=float(input(\"digite o valor da sua compra: \"))\n\nif (val<50):\n    print(f\"O valor Final da compra: R$ {val:.2f}. Para valores inferiores a R$50,00 não há desconto\")\nelif (val>=50 and val<100):\n    val=val*0.90\n    print(f\"O valor Final da compra: R${ val:.2f}. Você recebeu um desconto de 10.0%\")\nelif (val>=100):\n    val=val*0.80\n    print(f\"O valor Final da compra: R$ {val:.2f}. Você recebeu um desconto de 20.0%\")",
      "metadata": {
        "trusted": true
      },
      "outputs": [],
      "execution_count": null
    },
    {
      "id": "dc5db6d7",
      "cell_type": "markdown",
      "source": "### Q5.\n\nCrie um sistema de autenticação em Python. O sistema deve funcionar da\nseguinte maneira:\n\n1. Um banco de dados fictício deve ser implementado como um dicionário,\nonde a chave é o nome do usuário e o valor é uma tupla contendo a senha e\no nível de acesso do usuário.\n\n2. O programa deve solicitar ao usuário que insira seu usuário e senha.\n\n3. O sistema deve:\n* Verificar se o login existe no banco de dados.\n* Comparar a senha fornecida com a armazenada no banco.\n* Caso as credenciais sejam válidas, exibir uma mensagem de sucesso e o nível de acesso do usuário.\n* Caso seja inválido deverá retornar mensagem: “Erro: Usuário ou\nsenha inválidos.”\n* O programa deve rodar em um laço para permitir múltiplas\ntentativas de login, mas também permitir que o usuário opte por sair\ndo programa.\n\nAtributos dos 3 usuários cadastrados no sistema (usuário, senha e nível)\n\n1) admin – admin123 – Administrador\n2) usuario1 – senha123 – Usuário Comum\n3) visitante1 – guest2024 – Visitante",
      "metadata": {}
    },
    {
      "id": "b90304eb",
      "cell_type": "code",
      "source": "\nusuarios = {\n    \"admin\": (\"admin123\", \"Administrador\"),\n    \"usuario1\": (\"senha123\", \"Usuário Comum\"),\n    \"visitante1\": (\"guest2024\", \"Visitante\")\n}\n\nprint(\"Bem-vindo ao sistema de autenticação!\")\n\ncontinuar = \"sim\"\n\nwhile continuar== \"sim\":\n    login = input(\"Digite seu nome de usuário: \")\n    senha = input(\"Digite sua senha: \")\n\n    if login in usuarios and senha == usuarios[login][0]:\n        print(f\" Acesso permitido! Bem-vindo, {login}.\")\n        print(f\"Nível de acesso: {usuarios[login][1]}\") \n    else:\n        print(\"Erro: Usuário ou senha inválidos.\")\n        continuar = input(\"Deseja tentar novamente? (sim/não): \")\n\nprint(\"Sistema encerrado.\")\n",
      "metadata": {
        "trusted": true
      },
      "outputs": [
        {
          "name": "stdout",
          "output_type": "stream",
          "text": "Bem-vindo ao sistema de autenticação!\n"
        },
        {
          "output_type": "stream",
          "name": "stdin",
          "text": "Digite seu nome de usuário:  admin\nDigite sua senha:  admin123\n"
        },
        {
          "name": "stdout",
          "output_type": "stream",
          "text": " Acesso permitido! Bem-vindo, admin.\nNível de acesso: Administrador\n"
        }
      ],
      "execution_count": null
    },
    {
      "id": "23dfe089-c67a-415b-a2d2-119f2ec8a7bd",
      "cell_type": "code",
      "source": "",
      "metadata": {
        "trusted": true
      },
      "outputs": [],
      "execution_count": null
    }
  ]
}