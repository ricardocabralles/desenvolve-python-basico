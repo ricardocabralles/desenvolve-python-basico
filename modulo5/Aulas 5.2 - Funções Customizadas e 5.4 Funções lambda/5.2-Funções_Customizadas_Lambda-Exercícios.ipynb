{
  "metadata": {
    "kernelspec": {
      "name": "python",
      "display_name": "Python (Pyodide)",
      "language": "python"
    },
    "language_info": {
      "codemirror_mode": {
        "name": "python",
        "version": 3
      },
      "file_extension": ".py",
      "mimetype": "text/x-python",
      "name": "python",
      "nbconvert_exporter": "python",
      "pygments_lexer": "ipython3",
      "version": "3.8"
    }
  },
  "nbformat_minor": 5,
  "nbformat": 4,
  "cells": [
    {
      "id": "cbdff5a5",
      "cell_type": "markdown",
      "source": "# Módulo 5 - Funções\n\n## Aulas 5.2 - Funções Customizadas e 5.4 Funções ```lambda```",
      "metadata": {}
    },
    {
      "id": "28a3fee2",
      "cell_type": "markdown",
      "source": "### Q1.\n\n- Sabendo que o código a seguir calcula o fatorial de n, escreva uma função chamada ```fatorial()``` que recebe um inteiro ```n``` como parâmetro e retorna o resultado do fatorial de ```n```. \n- No programa principal, peça ao usuário o valor de ```n```, chame a sua função e imprima o retorno.\n\n```python\nfat = 1\nfor i in range(1, n+1):\n    fat *= i \n```",
      "metadata": {}
    },
    {
      "id": "d126b3a5",
      "cell_type": "code",
      "source": "def fatorial(n):\n    fat = 1\n    for i in range(1, n + 1):\n        fat *= i\n    return fat\n\n\n\n",
      "metadata": {},
      "outputs": [],
      "execution_count": null
    },
    {
      "id": "6e4fe64e",
      "cell_type": "code",
      "source": "## Escreva aqui o programa principal e execute a célula\nn = int(input(\"Digite um número inteiro para calcular o fatorial: \"))\nresultado = fatorial(n)\nprint(f\"O fatorial de {n} é: {resultado}\")",
      "metadata": {
        "trusted": true
      },
      "outputs": [
        {
          "output_type": "stream",
          "name": "stdin",
          "text": "Digite um número inteiro para calcular o fatorial:  4\n"
        },
        {
          "name": "stdout",
          "output_type": "stream",
          "text": "O fatorial de 4 é: 24\n"
        }
      ],
      "execution_count": 3
    },
    {
      "id": "c0a1f599",
      "cell_type": "markdown",
      "source": "### Q2.\n\n- Escreva uma função em Python chamada ```soma_quadrados``` que recebe dois números como parâmetros e retorna a soma dos seus quadrados. \n- No programa principal solicite ao usuário que insira dois números e utilize a função para exibir a soma dos quadrados.",
      "metadata": {}
    },
    {
      "id": "6dbddaad",
      "cell_type": "code",
      "source": "## Crie aqui a função soma_quadrados()\ndef soma_quadrados(n1,n2):\n    soma_quadrados= 0\n\n    soma_quadrados=((n1**2)+(n2**2))\n    return soma_quadrados\n",
      "metadata": {
        "trusted": true
      },
      "outputs": [],
      "execution_count": 5
    },
    {
      "id": "9175a7da",
      "cell_type": "code",
      "source": "## Escreva aqui o programa principal e execute a célula\nx=int(input(\"Digite o primeiro numero:\"))\ny=int(input(\"Digite o segundo numero:\"))\n\nresultado=soma_quadrados(x,y)\nprint(f\"A soma dos quadrados dos numeros digitados é igual a {resultado}\")",
      "metadata": {
        "trusted": true
      },
      "outputs": [
        {
          "output_type": "stream",
          "name": "stdin",
          "text": "Digite o primeiro numero: 2\nDigite o segundo numero: 3\n"
        },
        {
          "name": "stdout",
          "output_type": "stream",
          "text": "A soma dos quadrados dos numeros digitados é igual a 13\n"
        }
      ],
      "execution_count": 6
    },
    {
      "id": "6ba34ce0",
      "cell_type": "markdown",
      "source": "### Q3.\n\n- Crie uma função em Python chamada ```soma_digitos``` que recebe um número inteiro como parâmetro e retorna a soma dos seus dígitos. Por exemplo, para o número 123, a função deve retornar 6, $(1 + 2 + 3)$.\n    - O desafio aqui é separar os dígitos de um número inteiro usando operações aritméticas <br> <br>\n\n- No programa principal solicite ao usuário que insira um número e utilize a função ```soma_digitos``` para calcular e exibir a soma dos seus dígitos.",
      "metadata": {}
    },
    {
      "id": "34838ebf",
      "cell_type": "code",
      "source": "## Crie aqui a função soma_digitos()\ndef soma_digitos(n):\n    soma=0\n    while n>0:\n        digito=n%10\n        soma=soma+digito\n        n=n//10\n    return soma\n\n\n",
      "metadata": {
        "trusted": true
      },
      "outputs": [],
      "execution_count": 17
    },
    {
      "id": "27c35b21",
      "cell_type": "code",
      "source": "## Escreva aqui o programa principal e execute a célula\nx=int(input(\"Digite um numero o qual queira somar seus digitos:\"))\n\nsoma=soma_digitos(x)\nprint(f\"A soma dos digitos do numero digitado é {soma}\")",
      "metadata": {
        "trusted": true
      },
      "outputs": [
        {
          "output_type": "stream",
          "name": "stdin",
          "text": "Digite um numero o qual queira somar seus digitos: 12345678\n"
        },
        {
          "name": "stdout",
          "output_type": "stream",
          "text": "A soma dos digitos do numero digitado é 36\n"
        }
      ],
      "execution_count": 20
    },
    {
      "id": "c318b159",
      "cell_type": "markdown",
      "source": "### Q4.\n\n- Crie a função ```inverteValor()``` que recebe um inteiro de qualquer tamanho e retorna esse valor invertido usando apenas operações aritméticas\n- Crie a função ```verificaInverso()``` que recebe o valor original e o valor invertido e retorna verdadeiro se ambos forem igualmente par ou igualmente ímpar. Retorne falso caso contrário.\n- No programa principal, peça um valor do usuário e imprima o retorno de ambas as funções.\n",
      "metadata": {}
    },
    {
      "id": "e4e47d1d",
      "cell_type": "code",
      "source": "## Crie aqui as funções inverteValor() e verificaInverso()\ndef inverteValor(n):\n        invertido=0\n        if (n<0): \n            sinal=-1 \n        else: \n            sinal=1\n        n=abs(n)\n\n        while n>0:\n          digito=n%10\n          invertido=invertido*10+digito\n          n=n//10\n        return sinal*invertido\n\ndef verificaInverso(x,y):\n       return (x % 2) == (y % 2)\n",
      "metadata": {
        "trusted": true
      },
      "outputs": [],
      "execution_count": 27
    },
    {
      "id": "a9514e56",
      "cell_type": "code",
      "source": "## Escreva aqui o programa principal e execute a célula\no=int(input(\"digite um numero para ser invertido:\"))\ninvert=inverteValor(o)\nambas=verificaInverso(o, invert)\nprint(f\"O Inverso do numero {o} é {invert}\")\nprint(f\"Os dois numeros(original e inverso) são ambos pares ou impares:{ambas}\")",
      "metadata": {
        "trusted": true,
        "scrolled": true
      },
      "outputs": [
        {
          "output_type": "stream",
          "name": "stdin",
          "text": "digite um numero para ser invertido: 123\n"
        },
        {
          "name": "stdout",
          "output_type": "stream",
          "text": "O Inverso do numero 123 é 321\nOs dois numeros(original e inverso) são ambos pares ou impares:True\n"
        }
      ],
      "execution_count": 31
    },
    {
      "id": "329be966",
      "cell_type": "markdown",
      "source": "### Q5.\n\nVocê está desenvolvendo um programa para auxiliar em cálculos de geometria básica. Crie as seguintes funções:\n- A função ```calcula_perimetro_triangulo()``` que recebe três inteiros correspondentes aos lados de um triângulo e retorna o perímetro do triângulo, ou seja, a soma dos seus lados.\n- A função ```calcula_perimetro_circulo()``` que recebe um inteiro referente ao raio do círculo e retorna o perímetro do círculo, dado por $2 \\pi r$. Use a constante $\\pi$ da biblioteca ```math```.\n- A função ```calcula_perimetro_retangulo()``` que possui um parâmetro obrigatório ```lado1``` e um opcional ```lado2```, ambos inteiros. Se o valor opcional não for fornecido, significa que se trata de um quadrado. Sua função deve calcular e retornar o perímetro do retângulo, ou seja, a soma de seus lados. \n    - Para o quadrado, é dado por $4 \\times lado1$\n    - Para o retângulo é dado por $2 \\times lado1 + 2 \\times lado2$\n    \n- No programa principal apresente um menu com as opções disponíveis do seu sistema e uma quarta opção ```Sair```. Solicite ao usuário a opção desejada, solicite as entradas correspondentes à opção escolhida, invoque a respective função e apresente o seu retorno. Seu programa deve retornar ao menu até que o usuário escolha a opção ```Sair```\n\nExemplo de interação:\n```\n1 - Calcular perímetro triângulo\n2 - Calcular perímetro círculo\n3 - Calcular perímetro retângulo\n4 - Sair\n\nOpção: 1\nDigite os três lados do triângulo:\n3\n4\n5\nO perímetro é: 12\n\n1 - Calcular perímetro triângulo\n2 - Calcular perímetro círculo\n3 - Calcular perímetro retângulo\n4 - Sair\n\nOpção: 3\nInforme os dois lados do retângulo. Se for um quadrado, digite 0 para o segundo valor:\n5\n0\nO perímetro é: 20\n\n1 - Calcular perímetro triângulo\n2 - Calcular perímetro círculo\n3 - Calcular perímetro retângulo\n4 - Sair\n\nOpção: 4\n```",
      "metadata": {}
    },
    {
      "id": "0793d328",
      "cell_type": "code",
      "source": "## Crie aqui as funções \ndef calcula_perimetro_triangulo(x,y,z):\n    pertri=x+y+z\n    return pertri\n\nimport math\ndef calcula_perimetro_circulo(r):\n    percir=2*math.pi*r\n    return percir\n\ndef calcula_perimetro_retangulo(x,y=None):\n    if y is None:\n        perret=4*x\n    else:\n        perret=2*(x+y)\n    return perret\n\n    \n",
      "metadata": {
        "trusted": true
      },
      "outputs": [],
      "execution_count": 1
    },
    {
      "id": "36269c71",
      "cell_type": "code",
      "source": "## Escreva aqui o programa principal \nmenu=0\ntri=0\nret=0\ncir=0\nqua=0\nprint(\"Bem vindo ao Programa de Geometria Basica!\")\nprint()\nwhile menu!=4:\n    print()\n    print(\"Opções do menu:\")\n    print()\n    print(\"1 - Calcule o perimentro de um triangulo\")\n    print(\"2 - Calcule o perimetro de um circulo\")\n    print(\"3 - Calcule o Perimetro de um retangulo ou quadrado\")\n    print(\"4 - sair\")\n    print()\n    menu=int(input(\"Digite a seguir o numero correspondente a opção desejada:\"))\n    if menu==1:\n        print()\n        print(\"PERIMETRO DO TRIANGULO\")2\n        lado1T=int(input(\"digite o lado 1 do triangulo:\"))\n        lado2T=int(input(\"digite o lado 2 do triangulo:\"))\n        lado3T=int(input(\"digite o lado 3 do triangulo:\"))\n        tri=calcula_perimetro_triangulo(lado1T,lado2T,lado3T)\n        print(f\"o perimetro do triangulo é igual a {tri}\")\n    elif menu==2:\n        print()\n        print(\"PERIMETRO DO CIRCULO\")\n        raio=int(input(\"digite o raio do circulo:\"))\n        cir=calcula_perimetro_circulo(raio)\n        print(f\"o perimetro do circulo é igual a {cir}\")\n    elif menu==3:\n        print()\n        print(\"PERIMETRO DO RETANGULO OU QUADRADO\")\n        lado1RQ=int(input(\"digite o lado 1 do quadrado ou retangulo:\"))\n        lado2RQ=int(input(\"digite o lado 2 do quadrado ou retangulo:\"))\n        if lado1RQ==lado2RQ:\n            print()\n            qua=calcula_perimetro_retangulo(lado1RQ)\n            print(f\"o perimetro do quadrado é igual a {qua}\")\n        else:\n            print()\n            ret=calcula_perimetro_retangulo(lado1RQ,lado2RQ)\n            print(f\"o perimetro do retangulo é igual a {ret}\")\n            \n    elif menu==4:\n        print()\n        print(\"Programa encerrado\")\n    else:\n        print()\n        print(\"Opção Selecionada não existente, tente novamente.\")\n        \n    ",
      "metadata": {
        "trusted": true
      },
      "outputs": [
        {
          "name": "stdout",
          "output_type": "stream",
          "text": "Bem vindo ao Programa de Geometria Basica!\n\nOpções do menu:\n\n1 - Calcule o perimentro de um triangulo\n2 - Calcule o perimetro de um circulo\n3 - Calcule o Perimetro de um retangulo ou quadrado\n4 - sair\n\n"
        },
        {
          "output_type": "stream",
          "name": "stdin",
          "text": "Digite a seguir o numero correspondente a opção desejada: 1\n"
        },
        {
          "name": "stdout",
          "output_type": "stream",
          "text": "\nPERIMETRO DO TRIANGULO\n"
        },
        {
          "output_type": "stream",
          "name": "stdin",
          "text": "digite o lado 1 do triangulo: 1\ndigite o lado 2 do triangulo: 2\ndigite o lado 3 do triangulo: 3\n"
        },
        {
          "name": "stdout",
          "output_type": "stream",
          "text": "o perimetro do triangulo é igual a 6\nOpções do menu:\n\n1 - Calcule o perimentro de um triangulo\n2 - Calcule o perimetro de um circulo\n3 - Calcule o Perimetro de um retangulo ou quadrado\n4 - sair\n\n"
        },
        {
          "output_type": "stream",
          "name": "stdin",
          "text": "Digite a seguir o numero correspondente a opção desejada: 2\n"
        },
        {
          "name": "stdout",
          "output_type": "stream",
          "text": "\nPERIMETRO DO CIRCULO\n"
        },
        {
          "output_type": "stream",
          "name": "stdin",
          "text": "digite o raio do circulo: 2\n"
        },
        {
          "name": "stdout",
          "output_type": "stream",
          "text": "o perimetro do circulo é igual a 12.566370614359172\nOpções do menu:\n\n1 - Calcule o perimentro de um triangulo\n2 - Calcule o perimetro de um circulo\n3 - Calcule o Perimetro de um retangulo ou quadrado\n4 - sair\n\n"
        },
        {
          "output_type": "stream",
          "name": "stdin",
          "text": "Digite a seguir o numero correspondente a opção desejada: 3\n"
        },
        {
          "name": "stdout",
          "output_type": "stream",
          "text": "\nPERIMETRO DO RETANGULO OU QUADRADO\n"
        },
        {
          "output_type": "stream",
          "name": "stdin",
          "text": "digite o lado 1 do quadrado ou retangulo: 2\ndigite o lado 2 do quadrado ou retangulo: 2\n"
        },
        {
          "name": "stdout",
          "output_type": "stream",
          "text": "\no perimetro do quadrado é igual a 8\nOpções do menu:\n\n1 - Calcule o perimentro de um triangulo\n2 - Calcule o perimetro de um circulo\n3 - Calcule o Perimetro de um retangulo ou quadrado\n4 - sair\n\n"
        },
        {
          "output_type": "stream",
          "name": "stdin",
          "text": "Digite a seguir o numero correspondente a opção desejada: 3\n"
        },
        {
          "name": "stdout",
          "output_type": "stream",
          "text": "\nPERIMETRO DO RETANGULO OU QUADRADO\n"
        },
        {
          "output_type": "stream",
          "name": "stdin",
          "text": "digite o lado 1 do quadrado ou retangulo: 2\ndigite o lado 2 do quadrado ou retangulo: 3\n"
        },
        {
          "name": "stdout",
          "output_type": "stream",
          "text": "\no perimetro do retangulo é igual a 10\nOpções do menu:\n\n1 - Calcule o perimentro de um triangulo\n2 - Calcule o perimetro de um circulo\n3 - Calcule o Perimetro de um retangulo ou quadrado\n4 - sair\n\n"
        },
        {
          "output_type": "stream",
          "name": "stdin",
          "text": "Digite a seguir o numero correspondente a opção desejada: 5\n"
        },
        {
          "name": "stdout",
          "output_type": "stream",
          "text": "\nOpção Selecionada não existente, tente novamente.\nOpções do menu:\n\n1 - Calcule o perimentro de um triangulo\n2 - Calcule o perimetro de um circulo\n3 - Calcule o Perimetro de um retangulo ou quadrado\n4 - sair\n\n"
        },
        {
          "output_type": "stream",
          "name": "stdin",
          "text": "Digite a seguir o numero correspondente a opção desejada: 4\n"
        },
        {
          "name": "stdout",
          "output_type": "stream",
          "text": "\nPrograma encerrado\n"
        }
      ],
      "execution_count": 2
    },
    {
      "id": "3016bcc7",
      "cell_type": "markdown",
      "source": "## Funções ```lambda```",
      "metadata": {}
    },
    {
      "id": "f9cdb8dd",
      "cell_type": "markdown",
      "source": "### Q6.\n\nCrie uma função lambda para verificar se um número é par ou ímpar. Em seguida, solicite ao usuário um número indefinidos de valores (até que o usuário digite 0). Para cada valor de entrada, informe se é par ou ímpar.\n\nExemplo de interação:\n```\nDigite os valores que deseja verificar a paridade (digite 0 para finalizar a entrada de dados):\n3\nímpar\n8\npar\n12\npar\n5\nímpar\n7ímpar\n```",
      "metadata": {}
    },
    {
      "id": "e3c31a78",
      "cell_type": "code",
      "source": "resp=lambda x:x%2\nparar=1\n\nwhile parar!=0:\n    num=int(input(\"Digite um numero para verificar se é par ou impar. Para encerrar digite 0.\"))\n    if num==0:\n        print(\"Voce encerrou o programa!\")\n        break\n    else:    \n        verifica=resp(num)\n    \n        if verifica==0:\n            print(f\"O numero digitado {num} é par\")\n        elif verifica==1:\n            print(f\"O numero digitado {num} é impar\")\n    ",
      "metadata": {
        "trusted": true
      },
      "outputs": [
        {
          "output_type": "stream",
          "name": "stdin",
          "text": "Digite um numero para verificar se é par ou impar. Para encerrar digite 0. 1\n"
        },
        {
          "name": "stdout",
          "output_type": "stream",
          "text": "O numero digitado 1 é impar\n"
        },
        {
          "output_type": "stream",
          "name": "stdin",
          "text": "Digite um numero para verificar se é par ou impar. Para encerrar digite 0. 2\n"
        },
        {
          "name": "stdout",
          "output_type": "stream",
          "text": "O numero digitado 2 é par\n"
        },
        {
          "output_type": "stream",
          "name": "stdin",
          "text": "Digite um numero para verificar se é par ou impar. Para encerrar digite 0. 3\n"
        },
        {
          "name": "stdout",
          "output_type": "stream",
          "text": "O numero digitado 3 é impar\n"
        },
        {
          "output_type": "stream",
          "name": "stdin",
          "text": "Digite um numero para verificar se é par ou impar. Para encerrar digite 0. 4\n"
        },
        {
          "name": "stdout",
          "output_type": "stream",
          "text": "O numero digitado 4 é par\n"
        },
        {
          "output_type": "stream",
          "name": "stdin",
          "text": "Digite um numero para verificar se é par ou impar. Para encerrar digite 0. 5\n"
        },
        {
          "name": "stdout",
          "output_type": "stream",
          "text": "O numero digitado 5 é impar\n"
        },
        {
          "output_type": "stream",
          "name": "stdin",
          "text": "Digite um numero para verificar se é par ou impar. Para encerrar digite 0. 6\n"
        },
        {
          "name": "stdout",
          "output_type": "stream",
          "text": "O numero digitado 6 é par\n"
        },
        {
          "output_type": "stream",
          "name": "stdin",
          "text": "Digite um numero para verificar se é par ou impar. Para encerrar digite 0. 7\n"
        },
        {
          "name": "stdout",
          "output_type": "stream",
          "text": "O numero digitado 7 é impar\n"
        },
        {
          "output_type": "stream",
          "name": "stdin",
          "text": "Digite um numero para verificar se é par ou impar. Para encerrar digite 0. 8\n"
        },
        {
          "name": "stdout",
          "output_type": "stream",
          "text": "O numero digitado 8 é par\n"
        },
        {
          "output_type": "stream",
          "name": "stdin",
          "text": "Digite um numero para verificar se é par ou impar. Para encerrar digite 0. 9\n"
        },
        {
          "name": "stdout",
          "output_type": "stream",
          "text": "O numero digitado 9 é impar\n"
        },
        {
          "output_type": "stream",
          "name": "stdin",
          "text": "Digite um numero para verificar se é par ou impar. Para encerrar digite 0. 0\n"
        },
        {
          "name": "stdout",
          "output_type": "stream",
          "text": "Voce encerrou o programa!\n"
        }
      ],
      "execution_count": 2
    },
    {
      "id": "5a87474d",
      "cell_type": "markdown",
      "source": "### Q7.\n\nEscreva um programa que pergunte ao usuário qual operação ele deseja: maior ou menor.\nEm seguida leia uma quantidade indefinida de valores do usuário, até que o usuário digite o valor zero.\nApresente ao final o maior ou menor dos valores digitados de acordo com a escolha do usuário.\n\n**Sua solução deve incluir pelo menos uma função ```lambda```** \n\nExemplo de interação:\n```\nOpções: (1) maior ou (2) menor?\nOpção: 1\n\nDigite os valores de entrada. Digite 0 para finalizar a entrada de valores.\n4\n12\n15\n1\n0\n\nO maior valor é: 15\n```",
      "metadata": {}
    },
    {
      "id": "ee3f68ca",
      "cell_type": "code",
      "source": "## Escreva aqui o programa principal \nveri1=lambda x,y: x if x>y else y \n\nveri2=lambda x,y: x if x<y else y \n\nmaior=float('-inf')\nmenor=float('inf')\nnum=1\n\n\nsele=int(input(\"Digite 1 para verificar o maior numero ou 2 para verificar o menor\"))\n\nif sele==1:\n    while num!=0:\n        num=int(input(\"Digite os valores de entrada. Digite 0 para finalizar a entrada de valores.\"))\n        if num==0:\n            print(f\"O maior numero digitado foi {maior} \")\n            break\n        else:\n           maior=veri1(num,maior)\n\nelif sele==2:\n    while num!=0:\n        num=int(input(\"Digite os valores de entrada. Digite 0 para finalizar a entrada de valores.\"))\n        if num==0:\n            print(f\"O menor numero digitado foi {menor}\")\n            break\n        else:\n            menor=veri2(num,menor)\nelse:\n    print(\"Opção inválida. Digite 1 ou 2.\")",
      "metadata": {
        "trusted": true
      },
      "outputs": [
        {
          "output_type": "stream",
          "name": "stdin",
          "text": "Digite 1 para verificar o maior numero ou 2 para verificar o menor 2\nDigite os valores de entrada. Digite 0 para finalizar a entrada de valores. 7\nDigite os valores de entrada. Digite 0 para finalizar a entrada de valores. 5\nDigite os valores de entrada. Digite 0 para finalizar a entrada de valores. 3\nDigite os valores de entrada. Digite 0 para finalizar a entrada de valores. -70\nDigite os valores de entrada. Digite 0 para finalizar a entrada de valores. 15\nDigite os valores de entrada. Digite 0 para finalizar a entrada de valores. -45\nDigite os valores de entrada. Digite 0 para finalizar a entrada de valores. 10\nDigite os valores de entrada. Digite 0 para finalizar a entrada de valores. 0\n"
        },
        {
          "name": "stdout",
          "output_type": "stream",
          "text": "O menor numero digitado foi -70\n"
        }
      ],
      "execution_count": 2
    },
    {
      "id": "6b793801-8800-47ed-8e4b-4ad37e628423",
      "cell_type": "code",
      "source": "",
      "metadata": {
        "trusted": true
      },
      "outputs": [],
      "execution_count": null
    }
  ]
}